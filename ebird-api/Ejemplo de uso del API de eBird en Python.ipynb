{
 "cells": [
  {
   "cell_type": "markdown",
   "metadata": {},
   "source": [
    "# Ejemplo del uso del API de eBird en Python"
   ]
  },
  {
   "cell_type": "markdown",
   "metadata": {},
   "source": [
    "Se utiliza el [API de eBird](https://documenter.getpostman.com/view/664302/S1ENwy59) para consultar las observaciones realizadas en una lista de [_hotspots_ de eBird](https://ebird.org/hotspots) y en un rango de fechas y almacenarlas en un archivo CSV.\n",
    "\n",
    "Este ejemplo está basado en [Wednesday Birders - Using the ebird API, Python, and R to analyze data for our birding group - hselab.org](http://hselab.org/wednesday-birders-using-the-ebird-api-python-and-r-to-analyze-data-for-our-birding-group.html)."
   ]
  },
  {
   "cell_type": "markdown",
   "metadata": {},
   "source": [
    "**Bibliotecas**"
   ]
  },
  {
   "cell_type": "code",
   "execution_count": null,
   "metadata": {},
   "outputs": [],
   "source": [
    "import pandas as pd\n",
    "import requests\n",
    "import time"
   ]
  },
  {
   "cell_type": "markdown",
   "metadata": {},
   "source": [
    "**Entradas**"
   ]
  },
  {
   "cell_type": "code",
   "execution_count": null,
   "metadata": {},
   "outputs": [],
   "source": [
    "# API key proporcionada por eBird en https://ebird.org/api/keygen\n",
    "api_key = 'api_key'\n",
    "\n",
    "# URL base de eBird API 2.0\n",
    "url_base_obs = 'https://ebird.org/ws2.0/data/obs/'\n",
    "\n",
    "# Parámetros de la solicitud (request parameters)\n",
    "request_parms = '?rank=mrec&detail=full&cat=species&key=' + api_key\n",
    "\n",
    "# Nombre y ruta del archivo CSV de salida\n",
    "output_file = \"observations.csv\""
   ]
  },
  {
   "cell_type": "code",
   "execution_count": null,
   "metadata": {},
   "outputs": [],
   "source": [
    "# Diccionario de hostspots (la lista completa está en https://ebird.org/hotspots)\n",
    "hotspot_dict = {'L5496914' : 'Hacienda Pozo Azul',\n",
    "                'L2941749' : 'San Miguel to Virgen del Socorro road',\n",
    "                'L3673157' : 'Tirimbina--Field Station'}\n",
    "\n",
    "# Rango de fechas\n",
    "start_date = pd.Timestamp('20191001')\n",
    "end_date = pd.Timestamp('20191015')\n",
    "num_days = (end_date - start_date).days + 1\n",
    "rng = pd.date_range(start_date, periods=num_days, freq='D')"
   ]
  },
  {
   "cell_type": "markdown",
   "metadata": {},
   "source": [
    "**Procesamiento**"
   ]
  },
  {
   "cell_type": "code",
   "execution_count": null,
   "metadata": {},
   "outputs": [],
   "source": [
    "# Lista de diccionarios con datos de observaciones\n",
    "observations_list = []\n",
    "\n",
    "# Recorrido de la lista de hotspots y del rango de fechas\n",
    "for hotspot in hotspot_dict:\n",
    "    for d in rng:\n",
    "        time.sleep(0.5) # time delay\n",
    "        ymd = '{}/{}/{}'.format(d.year, d.month, d.day)\n",
    "        # Se construye el URL\n",
    "        url_obs = url_base_obs + hotspot + '/historic/' + ymd + request_parms\n",
    "        print(url_obs)\n",
    "        # Se obtienen las observaciones de un hotspot específico en un día específico\n",
    "        obs = requests.get(url_obs)\n",
    "        # Se añaden las nuevas observaciones a la lista general\n",
    "        observations_list.extend(obs.json())\n",
    "\n",
    "# Se convierte la lista de diccionarios a un dataframe de Pandas\n",
    "observations_df = pd.DataFrame(observations_list)"
   ]
  },
  {
   "cell_type": "markdown",
   "metadata": {},
   "source": [
    "**Salidas**"
   ]
  },
  {
   "cell_type": "code",
   "execution_count": null,
   "metadata": {},
   "outputs": [],
   "source": [
    "# Se imprime la estructura del dataframe\n",
    "print(observations_df.info())"
   ]
  },
  {
   "cell_type": "code",
   "execution_count": null,
   "metadata": {},
   "outputs": [],
   "source": [
    "# Se imprimen los primeros registros\n",
    "observations_df.head()"
   ]
  },
  {
   "cell_type": "code",
   "execution_count": null,
   "metadata": {},
   "outputs": [],
   "source": [
    "# Se exporta el dataframe a un archivo CSV\n",
    "observations_df.to_csv(output_file, index=False)"
   ]
  }
 ],
 "metadata": {
  "kernelspec": {
   "display_name": "Python 3",
   "language": "python",
   "name": "python3"
  },
  "language_info": {
   "codemirror_mode": {
    "name": "ipython",
    "version": 3
   },
   "file_extension": ".py",
   "mimetype": "text/x-python",
   "name": "python",
   "nbconvert_exporter": "python",
   "pygments_lexer": "ipython3",
   "version": "3.7.3"
  }
 },
 "nbformat": 4,
 "nbformat_minor": 2
}
